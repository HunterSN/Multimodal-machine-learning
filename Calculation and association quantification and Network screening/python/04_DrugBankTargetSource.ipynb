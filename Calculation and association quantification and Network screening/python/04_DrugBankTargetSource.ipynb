{
 "cells": [
  {
   "cell_type": "code",
   "execution_count": 2,
   "metadata": {},
   "outputs": [],
   "source": [
    "import json\n",
    "import xmltodict\n",
    "\n",
    "\n",
    "\n",
    "# 读取 JSON 数据\n",
    "with open('drugBank_5_1_11.json', 'r', encoding=\"utf-8\") as f:\n",
    "    data = json.load(f)\n",
    "\n",
    "drugs = data['drugbank']['drug']\n",
    "file = open('itemsSource.csv', 'w', encoding=\"utf-8\")\n",
    "\n",
    "for drug in drugs:\n",
    "    try:\n",
    "        drug_id = drug['drugbank-id'][0]['#text']\n",
    "    except:\n",
    "        drug_id = drug['drugbank-id']['#text']\n",
    "    drug_name = drug['name']\n",
    "    try:\n",
    "        targets = drug['targets']['target']\n",
    "    except:\n",
    "        continue\n",
    "\n",
    "    drug_type = drug['@type']\n",
    "\n",
    "    if isinstance(targets, dict):\n",
    "        try:\n",
    "            uniprot_id = targets['polypeptide']['@id']\n",
    "        except:\n",
    "            continue\n",
    "        target_id = targets['id']\n",
    "        target_name = targets['name']\n",
    "        item = ','.join([drug_id, drug_name, drug_type, uniprot_id, target_name])\n",
    "        file.writelines(item + '\\n')\n",
    "\n",
    "    if isinstance(targets, list):\n",
    "        for target in targets:\n",
    "            try:\n",
    "                uniprot_id = target['polypeptide']['@id']\n",
    "            except:\n",
    "                continue\n",
    "            target_id = target['id']\n",
    "            target_name = target['name']\n",
    "            item = ','.join([drug_id, drug_name, drug_type, uniprot_id, target_name])\n",
    "            file.writelines(item + '\\n')\n",
    "\n",
    "file.close()"
   ]
  }
 ],
 "metadata": {
  "kernelspec": {
   "display_name": "Python 3",
   "language": "python",
   "name": "python3"
  },
  "language_info": {
   "codemirror_mode": {
    "name": "ipython",
    "version": 3
   },
   "file_extension": ".py",
   "mimetype": "text/x-python",
   "name": "python",
   "nbconvert_exporter": "python",
   "pygments_lexer": "ipython3",
   "version": "3.8.10"
  }
 },
 "nbformat": 4,
 "nbformat_minor": 2
}
