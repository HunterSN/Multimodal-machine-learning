{
 "cells": [
  {
   "cell_type": "code",
   "execution_count": null,
   "metadata": {},
   "outputs": [],
   "source": [
    "#导入依赖包\n",
    "#!/usr/bin/python3\n",
    "\n",
    "from rdkit import Chem\n",
    "from rdkit.Chem.Draw import IPythonConsole\n",
    "from rdkit.Chem import AllChem\n",
    "from rdkit import DataStructs\n",
    "from rdkit.Chem import Draw\n",
    "import pandas as pd"
   ]
  },
  {
   "cell_type": "code",
   "execution_count": null,
   "metadata": {},
   "outputs": [],
   "source": [
    "#载入数据\n",
    "#获取数据集中第一个分子\n",
    "drugbank = Chem.SDMolSupplier('structures.sdf')\n",
    "drugbank[0]\n"
   ]
  },
  {
   "cell_type": "code",
   "execution_count": null,
   "metadata": {},
   "outputs": [],
   "source": [
    "#获取数据集中第一个分子名称\n",
    "drugbank[0].GetProp('GENERIC_NAME')"
   ]
  },
  {
   "cell_type": "code",
   "execution_count": null,
   "metadata": {},
   "outputs": [],
   "source": [
    "#输出数据集中分子包含的属性\n",
    "properties = drugbank[0].GetPropNames()\n",
    "for prop in properties:\n",
    "    print(prop)"
   ]
  },
  {
   "cell_type": "code",
   "execution_count": null,
   "metadata": {},
   "outputs": [],
   "source": [
    "#获取数据集中批准的药物数目\n",
    "approved = []\n",
    "for drug in drugbank:\n",
    "    if drug and 'approved' in drug.GetProp('DRUG_GROUPS'):\n",
    "        approved.append(drug)\n",
    "len(approved)"
   ]
  },
  {
   "cell_type": "code",
   "execution_count": null,
   "metadata": {},
   "outputs": [],
   "source": [
    "#计算数据集中第一个分子的MACC分子指纹\n",
    "#基于MACC指纹相似性的比对，获得Tanimoto系数\n",
    " \n",
    "bivalirudin_fp = AllChem.GetMACCSKeysFingerprint(drugbank[0])\n",
    "fps = [AllChem.GetMACCSKeysFingerprint(mol) for mol in approved]\n",
    "sims = DataStructs.BulkTanimotoSimilarity(bivalirudin_fp, fps)\n",
    "sims[:10]"
   ]
  },
  {
   "cell_type": "code",
   "execution_count": null,
   "metadata": {},
   "outputs": [],
   "source": [
    "#基于Tanimoto相似性系数的排序\n",
    "#统计相似度大于0.8的分子个数\n",
    "\n",
    "similarities = pd.Series(sims, index=approved)\n",
    "similarities.sort_values(ascending=False, inplace=True)\n",
    " \n",
    "highest_matches = similarities[similarities > 0.8]\n",
    "len(highest_matches)"
   ]
  },
  {
   "cell_type": "code",
   "execution_count": null,
   "metadata": {},
   "outputs": [],
   "source": [
    "#输出相似性结果，即绘制分子\n",
    "\n",
    "legends = []\n",
    "for mol, sim in highest_matches.items():\n",
    "    # concat string for neat printout\n",
    "    s =  \"{0} : {1:.2}\".format(mol.GetProp('GENERIC_NAME'), sim)\n",
    "    legends.append(s)\n",
    "Draw.MolsToGridImage(highest_matches.index.tolist(), \n",
    "                     molsPerRow=4, legends=legends)"
   ]
  }
 ],
 "metadata": {
  "kernelspec": {
   "display_name": "Python 3",
   "language": "python",
   "name": "python3"
  },
  "language_info": {
   "codemirror_mode": {
    "name": "ipython",
    "version": 3
   },
   "file_extension": ".py",
   "mimetype": "text/x-python",
   "name": "python",
   "nbconvert_exporter": "python",
   "pygments_lexer": "ipython3",
   "version": "3.0.0"
  }
 },
 "nbformat": 4,
 "nbformat_minor": 2
}
