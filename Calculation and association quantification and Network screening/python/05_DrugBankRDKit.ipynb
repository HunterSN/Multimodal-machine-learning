{
 "cells": [
  {
   "cell_type": "code",
   "execution_count": null,
   "metadata": {},
   "outputs": [],
   "source": [
    "from rdkit import Chem\n",
    "from rdkit.Chem import AllChem\n",
    "from Bio import SeqIO\n",
    "import networkx as nx\n",
    "import numpy as np\n",
    "import pandas as pd"
   ]
  },
  {
   "cell_type": "code",
   "execution_count": null,
   "metadata": {},
   "outputs": [],
   "source": [
    "# Step 1: 解析药物的SMILES序列并提取药效团特征\n",
    "def extract_molecular_features(smiles):\n",
    "    mol = Chem.MolFromSmiles(smiles)\n",
    "    features = np.array(AllChem.GetMorganFingerprintAsBitVect(mol, 2, nBits=1024))\n",
    "    pass\n",
    "\n",
    "# Step 2: 生成药物的二维拓扑结构和原子连接矩阵\n",
    "def generate_molecule_graph(smiles):\n",
    "    mol = Chem.MolFromSmiles(smiles)\n",
    "    atom_connectivity = Chem.GetAdjacencyMatrix(mol)\n",
    "    return atom_connectivity\n",
    "\n",
    "# Step 3: 解析蛋白的FASTA序列\n",
    "def parse_protein_fasta(fasta_file):\n",
    "    sequences = {}\n",
    "    for record in SeqIO.parse(fasta_file, \"fasta\"):\n",
    "        sequences[record.id] = str(record.seq)\n",
    "    return sequences\n",
    "\n",
    "# Step 4: 构建蛋白图\n",
    "def build_protein_graph(sequence):\n",
    "    # Your implementation to build protein graph\n",
    "    pass\n",
    "\n",
    "# Step 5: 构建药物图\n",
    "def build_drug_graph(molecule, atom_connectivity):\n",
    "    G = nx.Graph()\n",
    "    for atom in molecule.GetAtoms():\n",
    "        G.add_node(atom.GetIdx(), atomic_number=atom.GetAtomicNum())\n",
    "\n",
    "    for bond in molecule.GetBonds():\n",
    "        start, end = bond.GetBeginAtomIdx(), bond.GetEndAtomIdx()\n",
    "        G.add_edge(start, end)\n",
    "\n",
    "    return G\n",
    "\n"
   ]
  },
  {
   "cell_type": "code",
   "execution_count": null,
   "metadata": {},
   "outputs": [],
   "source": [
    "smiles = \"CC(=O)C(O)=O\"  # Example SMILES\n",
    "molecule, atom_connectivity = generate_molecule_graph(smiles)\n",
    "molecular_features = extract_molecular_features(smiles)\n",
    "\n",
    "fasta_file = \"R_05_PSSM_input_removeIllegal_ShortSequences.fasta\"  # Example FASTA file\n",
    "protein_sequences = parse_protein_fasta(fasta_file)\n",
    "protein_graph = build_protein_graph(protein_sequences)\n",
    "\n",
    "drug_graph = build_drug_graph(molecule, atom_connectivity)\n"
   ]
  },
  {
   "cell_type": "code",
   "execution_count": null,
   "metadata": {},
   "outputs": [],
   "source": [
    "smiles = \"CC(=O)C(O)=O\"  # Example SMILES\n",
    "extract_molecular_features(smiles)\n"
   ]
  },
  {
   "cell_type": "code",
   "execution_count": null,
   "metadata": {},
   "outputs": [],
   "source": [
    "generate_molecule_graph(smiles)"
   ]
  },
  {
   "cell_type": "code",
   "execution_count": null,
   "metadata": {},
   "outputs": [],
   "source": [
    "fasta_file = \"R_05_PSSM_input_removeIllegal_ShortSequences.fasta\"  # Example FASTA file\n",
    "protein_sequences = parse_protein_fasta(fasta_file)"
   ]
  },
  {
   "cell_type": "code",
   "execution_count": null,
   "metadata": {},
   "outputs": [],
   "source": [
    "protein_graph = build_protein_graph(protein_sequences)"
   ]
  },
  {
   "cell_type": "code",
   "execution_count": null,
   "metadata": {},
   "outputs": [],
   "source": [
    "drug_graph = build_drug_graph(molecule, atom_connectivity)"
   ]
  },
  {
   "cell_type": "code",
   "execution_count": null,
   "metadata": {},
   "outputs": [],
   "source": [
    "# 1. 提取药效团特征\n",
    "def extract_features(smiles_list, activity_list):\n",
    "    features = []\n",
    "    activities = []\n",
    "    for smiles, activity in zip(smiles_list, activity_list):\n",
    "        mol = Chem.MolFromSmiles(smiles)\n",
    "        if mol is not None:\n",
    "            features.append(np.array(AllChem.GetMorganFingerprintAsBitVect(mol, 2, nBits=1024)))\n",
    "            activities.append(activity)\n",
    "        else:\n",
    "            print(\"Invalid SMILES:\", smiles)\n",
    "    return np.array(features), np.array(activities)"
   ]
  },
  {
   "cell_type": "code",
   "execution_count": null,
   "metadata": {},
   "outputs": [],
   "source": [
    "# 2. 准备数据集\n",
    "# 假设你有一个包含smiles字符串和对应活性的数据集\n",
    "#载入数据\n",
    "\n",
    "file_path = 'drugbank_smiles.csv'  # 修改为您的文件路径\n",
    "data = pd.read_csv(file_path)\n",
    "\n",
    "smiles_data = data['smiles'].tolist()  # 包含SMILES字符串的列表\n",
    "activity_data = data['logP ALOGPS'].tolist()  # 对应的活性数据\n"
   ]
  },
  {
   "cell_type": "code",
   "execution_count": null,
   "metadata": {},
   "outputs": [],
   "source": [
    "# 将SMILES转换为药效团特征\n",
    "X, y = extract_features(smiles_data, activity_data)"
   ]
  },
  {
   "cell_type": "code",
   "execution_count": null,
   "metadata": {},
   "outputs": [],
   "source": [
    "\n",
    "# 划分数据集为训练集和测试集\n",
    "X_train, X_test, y_train, y_test = train_test_split(X, y, test_size=0.2, random_state=42)\n"
   ]
  },
  {
   "cell_type": "code",
   "execution_count": null,
   "metadata": {},
   "outputs": [],
   "source": [
    "# 3. 设计CNN模型\n",
    "model = Sequential()\n",
    "model.add(Conv1D(128, kernel_size=5, activation='relu', input_shape=(1024, 1)))\n",
    "model.add(MaxPooling1D(pool_size=2))\n",
    "model.add(Conv1D(64, kernel_size=3, activation='relu'))\n",
    "model.add(MaxPooling1D(pool_size=2))\n",
    "model.add(Flatten())\n",
    "model.add(Dense(64, activation='relu'))\n",
    "model.add(Dense(1, activation='sigmoid'))"
   ]
  },
  {
   "cell_type": "code",
   "execution_count": null,
   "metadata": {},
   "outputs": [],
   "source": [
    "# 4. 模型训练\n",
    "model.compile(optimizer='adam', loss='binary_crossentropy', metrics=['accuracy'])\n",
    "model.fit(X_train.reshape(-1, 1024, 1), y_train, epochs=10, batch_size=32, validation_split=0.1)\n"
   ]
  },
  {
   "cell_type": "code",
   "execution_count": null,
   "metadata": {},
   "outputs": [],
   "source": [
    "\n",
    "# 5. 模型评估\n",
    "loss, accuracy = model.evaluate(X_test.reshape(-1, 1024, 1), y_test)\n",
    "print(\"Test Accuracy:\", accuracy)"
   ]
  }
 ],
 "metadata": {
  "kernelspec": {
   "display_name": "Python 3",
   "language": "python",
   "name": "python3"
  },
  "language_info": {
   "codemirror_mode": {
    "name": "ipython",
    "version": 3
   },
   "file_extension": ".py",
   "mimetype": "text/x-python",
   "name": "python",
   "nbconvert_exporter": "python",
   "pygments_lexer": "ipython3",
   "version": "3.8.10"
  }
 },
 "nbformat": 4,
 "nbformat_minor": 2
}
