{
 "cells": [
  {
   "cell_type": "code",
   "execution_count": null,
   "metadata": {},
   "outputs": [],
   "source": [
    "import os\n",
    "import pandas as pd"
   ]
  },
  {
   "cell_type": "code",
   "execution_count": null,
   "metadata": {},
   "outputs": [],
   "source": [
    "# 指定包含所有CSV文件的目录路径\n",
    "directory = 'D:/06'"
   ]
  },
  {
   "cell_type": "code",
   "execution_count": null,
   "metadata": {},
   "outputs": [],
   "source": [
    "# 创建一个空的DataFrame来存储合并后的数据\n",
    "gradients_data = pd.DataFrame()\n",
    "gradients_norm_data = pd.DataFrame()\n"
   ]
  },
  {
   "cell_type": "code",
   "execution_count": null,
   "metadata": {},
   "outputs": [],
   "source": [
    "# 遍历目录中的所有CSV文件\n",
    "for filename in os.listdir(directory):\n",
    "    if filename.endswith(\"gradients.csv\"):\n",
    "        filepath = os.path.join(directory, filename)\n",
    "        # 读取CSV文件并将第二列数据合并到merged_data DataFrame中，并以文件名（不包括.csv部分）作为列名\n",
    "        data = pd.read_csv(filepath)\n",
    "        column_name = os.path.splitext(filename)[0]  # 获取文件名（不包括.csv部分）\n",
    "        gradients_data[column_name] = data.iloc[:, 1]"
   ]
  },
  {
   "cell_type": "code",
   "execution_count": null,
   "metadata": {},
   "outputs": [],
   "source": [
    "# 遍历目录中的所有CSV文件\n",
    "for filename in os.listdir(directory):\n",
    "    if filename.endswith(\"gradients_norm_df.csv\"):\n",
    "        filepath = os.path.join(directory, filename)\n",
    "        # 读取CSV文件并将第二列数据合并到merged_data DataFrame中，并以文件名（不包括.csv部分）作为列名\n",
    "        data = pd.read_csv(filepath)\n",
    "        column_name = os.path.splitext(filename)[0]  # 获取文件名（不包括.csv部分）\n",
    "        gradients_norm_data[column_name] = data.iloc[:, 1]"
   ]
  },
  {
   "cell_type": "code",
   "execution_count": null,
   "metadata": {},
   "outputs": [],
   "source": [
    "# 将合并后的数据保存为一个新的CSV文件\n",
    "gradients_data.to_csv('07_gradients_data.csv', index=False)\n",
    "gradients_norm_data.to_csv('07_gradients_norm_data.csv', index=False)"
   ]
  }
 ],
 "metadata": {
  "kernelspec": {
   "display_name": "Python 3",
   "language": "python",
   "name": "python3"
  },
  "language_info": {
   "codemirror_mode": {
    "name": "ipython",
    "version": 3
   },
   "file_extension": ".py",
   "mimetype": "text/x-python",
   "name": "python",
   "nbconvert_exporter": "python",
   "pygments_lexer": "ipython3",
   "version": "3.8.18"
  }
 },
 "nbformat": 4,
 "nbformat_minor": 2
}
