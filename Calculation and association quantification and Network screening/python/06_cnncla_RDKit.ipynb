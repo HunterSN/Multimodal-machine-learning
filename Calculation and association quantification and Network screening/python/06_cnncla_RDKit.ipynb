{
 "cells": [
  {
   "cell_type": "code",
   "execution_count": null,
   "metadata": {},
   "outputs": [],
   "source": [
    "import numpy as np\n",
    "import pandas as pd\n",
    "import matplotlib.pyplot as plt\n",
    "import seaborn as sns\n",
    "from sklearn.model_selection import train_test_split\n",
    "from sklearn.metrics import confusion_matrix, accuracy_score, precision_score, recall_score, f1_score\n",
    "from tensorflow.keras.models import Sequential\n",
    "from tensorflow.keras.layers import Dense, Flatten,MaxPooling1D\n",
    "from tensorflow.keras.utils import to_categorical\n",
    "from tensorflow.keras.layers import Conv1D\n",
    "import tensorflow as tf\n",
    "from tensorflow.keras import layers, models\n"
   ]
  },
  {
   "cell_type": "code",
   "execution_count": null,
   "metadata": {},
   "outputs": [],
   "source": [
    "# 载入数据\n",
    "file_path = 'R_09_targetCNN_RDKit_singletargettest.csv'  # 修改为您的文件路径\n",
    "data = pd.read_csv(file_path)"
   ]
  },
  {
   "cell_type": "code",
   "execution_count": null,
   "metadata": {},
   "outputs": [],
   "source": [
    "# 预处理\n",
    "X = data.drop('targetNum', axis=1).values.astype(np.float32).reshape(-1, 27018,1)\n",
    "y = data['targetNum'].values\n",
    "y = to_categorical(y)"
   ]
  },
  {
   "cell_type": "code",
   "execution_count": null,
   "metadata": {},
   "outputs": [],
   "source": [
    "# 分割数据集\n",
    "X_train, X_test, y_train, y_test = train_test_split(X, y, test_size=0.2, random_state=42)\n"
   ]
  },
  {
   "cell_type": "code",
   "execution_count": null,
   "metadata": {},
   "outputs": [],
   "source": [
    "# 构建CNN神经网络\n",
    "model = Sequential()\n",
    "model.add(Conv1D(32, kernel_size=2, activation='relu', input_shape=(27018, 1)))\n",
    "model.add(MaxPooling1D(pool_size =(20),padding ='same'))\n",
    "model.add(Flatten())\n",
    "model.add(Dense(y.shape[1], activation='softmax'))  # 输出层数量 = 类别数"
   ]
  },
  {
   "cell_type": "code",
   "execution_count": null,
   "metadata": {},
   "outputs": [],
   "source": [
    "# # 构建CNN神经网络\n",
    "# model = Sequential()\n",
    "# model.add(Conv1D(5, kernel_size=2, activation='relu', input_shape=(27018, 1)))\n",
    "# # Dropout\n",
    "# model.add(Dropout(0.2))\n",
    "# # 添加另一个卷积层 padding ='valid'表示输出尺寸可以采用任何形式\n",
    "# model.add(Conv1D(5, kernel_size=2,activation ='relu',padding ='valid'))\n",
    "# # 添加一个最大池化层\n",
    "# model.add(MaxPooling1D(pool_size =(2)))\n",
    "# # 展平\n",
    "# model.add(Flatten())\n",
    "# # Dense层 隐藏单元数为521\n",
    "# model.add(Dense(512, activation='relu'))\n",
    "# # Dropout\n",
    "# model.add(Dropout(0.3))\n",
    "# #output \n",
    "# model.add(Dense(y.shape[1], activation='softmax'))  # 输出层数量 = 类别数\n"
   ]
  },
  {
   "cell_type": "code",
   "execution_count": null,
   "metadata": {},
   "outputs": [],
   "source": [
    "# # 构建CNN神经网络\n",
    "# model = Sequential()\n",
    "# model.add(Conv1D(5, kernel_size=2, activation='relu', input_shape=(27018, 1)))\n",
    "# model.add(Flatten())\n",
    "# model.add(Dense(y.shape[1], activation='softmax'))  # 输出层数量 = 类别数"
   ]
  },
  {
   "cell_type": "code",
   "execution_count": null,
   "metadata": {},
   "outputs": [],
   "source": [
    "# 设置损失函数loss、优化器optimizer、准确性评价函数metrics\n",
    "model.compile(optimizer='adam', loss='categorical_crossentropy', metrics=['accuracy'])\n"
   ]
  },
  {
   "cell_type": "code",
   "execution_count": null,
   "metadata": {},
   "outputs": [],
   "source": [
    "# 训练模型\n",
    "history = model.fit(X_train, y_train, validation_split=0.1, epochs=5)\n"
   ]
  },
  {
   "cell_type": "code",
   "execution_count": null,
   "metadata": {},
   "outputs": [],
   "source": [
    "#保存模型\n",
    "\n",
    "model.save_weights('06_cnncla_RDKit_weight3.h5')\n",
    "model.save('06_cnncla_RDKit_model3.h5')"
   ]
  },
  {
   "cell_type": "code",
   "execution_count": null,
   "metadata": {},
   "outputs": [],
   "source": [
    "# loss可视化\n",
    "plt.figure(figsize=(12, 6))\n",
    "plt.plot(history.history['loss'])\n",
    "plt.plot(history.history['val_loss'])\n",
    "plt.title('Model Loss')\n",
    "plt.ylabel('Loss')\n",
    "plt.xlabel('Epoch')\n",
    "plt.legend(['Train', 'Test'], loc='upper left')\n",
    "plt.show()"
   ]
  },
  {
   "cell_type": "code",
   "execution_count": null,
   "metadata": {},
   "outputs": [],
   "source": [
    "# 测试集预测\n",
    "y_pred = model.predict(X_test)\n",
    "y_pred_classes = np.argmax(y_pred, axis=1)\n",
    "y_true = np.argmax(y_test, axis=1)"
   ]
  },
  {
   "cell_type": "code",
   "execution_count": null,
   "metadata": {},
   "outputs": [],
   "source": [
    "# 混淆矩阵\n",
    "cm = confusion_matrix(y_true, y_pred_classes)\n"
   ]
  },
  {
   "cell_type": "code",
   "execution_count": null,
   "metadata": {},
   "outputs": [],
   "source": [
    "# 模型评价\n",
    "acc_ = accuracy_score(y_true, y_pred_classes)\n",
    "prec_ = precision_score(y_true, y_pred_classes, average='weighted')\n",
    "reca_ = recall_score(y_true, y_pred_classes, average='weighted')\n",
    "f1_ = f1_score(y_true, y_pred_classes, average='weighted')\n",
    "print('acc_, prec_, reca_, f1_:', acc_, prec_, reca_, f1_)"
   ]
  },
  {
   "cell_type": "code",
   "execution_count": null,
   "metadata": {},
   "outputs": [],
   "source": [
    "# 绘制评价指标条形图\n",
    "metrics = [acc_, prec_, reca_, f1_]\n",
    "plt.figure()\n",
    "labels = ['Accuracy', 'Precision', 'Recall', 'F1 Score']\n",
    "plt.bar(labels, metrics)\n",
    "plt.title('Classification Metrics')\n",
    "plt.savefig('Metrics.png')\n",
    "plt.show()"
   ]
  },
  {
   "cell_type": "code",
   "execution_count": null,
   "metadata": {},
   "outputs": [],
   "source": [
    "plt.figure(figsize=(6, 4))\n",
    "sns.heatmap(cm, annot=True, fmt='d', cmap='Blues')\n",
    "plt.ylabel('Actual')\n",
    "plt.xlabel('Predicted')\n",
    "plt.title('Confusion Matrix Heatmap')\n",
    "plt.show()"
   ]
  },
  {
   "cell_type": "code",
   "execution_count": null,
   "metadata": {},
   "outputs": [],
   "source": [
    "\n",
    "# 获取模型的权重\n",
    "weights = model.get_weights()\n",
    "\n",
    "# 保存权重到文件\n",
    "np.savez(\"model_weights.npz\", weights)"
   ]
  },
  {
   "cell_type": "code",
   "execution_count": null,
   "metadata": {},
   "outputs": [],
   "source": [
    "# 加载保存的权重\n",
    "loaded_weights = np.load(\"model_weights.npz\", allow_pickle=True)\n",
    "\n",
    "# 设置模型的权重\n",
    "model.set_weights(loaded_weights['arr_0'])\n"
   ]
  },
  {
   "cell_type": "code",
   "execution_count": null,
   "metadata": {},
   "outputs": [],
   "source": [
    "for i, layer_weights in enumerate(weights):\n",
    "    print(\"Layer\", i+1, \"weights:\")\n",
    "    print(layer_weights)"
   ]
  },
  {
   "cell_type": "code",
   "execution_count": null,
   "metadata": {},
   "outputs": [],
   "source": [
    "# 假设模型已经训练好并保存在model变量中\n",
    "\n",
    "# 获取第一层的权重\n",
    "first_layer_weights = model.layers[0].get_weights()[0]\n",
    "print(first_layer_weights)\n",
    "\n",
    "\n",
    "# 将权重转换为二维数组\n",
    "num_rows, num_cols, _ = first_layer_weights.shape\n",
    "flattened_weights = first_layer_weights.reshape((num_rows * num_cols, -1))\n",
    "\n",
    "# 保存为CSV文件\n",
    "np.savetxt(\"first_layer_weights.csv\", flattened_weights, delimiter=\",\")"
   ]
  },
  {
   "cell_type": "code",
   "execution_count": null,
   "metadata": {},
   "outputs": [],
   "source": [
    "# 提取模型的第一个卷积层\n",
    "conv_layer = model.layers[0]\n",
    "# 获取模型的梯度函数\n",
    "grad_model = tf.keras.models.Model([model.inputs], [conv_layer.output, model.output])\n",
    "\n",
    "# 计算梯度\n",
    "with tf.GradientTape() as tape:\n",
    "    conv_output, predictions = grad_model(X_train)\n",
    "    loss = tf.reduce_mean(predictions)\n",
    "\n",
    "grads = tape.gradient(loss, conv_output)\n",
    "\n",
    "# 求梯度权重\n",
    "pooled_grads = tf.reduce_mean(grads, axis=(0, 1))"
   ]
  }
 ],
 "metadata": {
  "kernelspec": {
   "display_name": "Python 3",
   "language": "python",
   "name": "python3"
  },
  "language_info": {
   "codemirror_mode": {
    "name": "ipython",
    "version": 3
   },
   "file_extension": ".py",
   "mimetype": "text/x-python",
   "name": "python",
   "nbconvert_exporter": "python",
   "pygments_lexer": "ipython3",
   "version": "3.8.10"
  }
 },
 "nbformat": 4,
 "nbformat_minor": 2
}
